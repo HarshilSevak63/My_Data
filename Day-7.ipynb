{
 "cells": [
  {
   "cell_type": "code",
   "execution_count": null,
   "metadata": {},
   "outputs": [],
   "source": [
    "# True Label,Predicted Label,Metric\n",
    "#    cat   ,     dog        ,  FP\n",
    "#    cat   ,     cat        ,  TN\n",
    "#    cat   ,     dog        ,  FP\n",
    "#    cat   ,     cat        ,  TN\n",
    "#    cat   ,     dog        ,  FP\n",
    "#    dog   ,     dog        ,  TP\n",
    "#    dog   ,     dog        ,  TP\n",
    "#    dog   ,     cat        ,  FN\n",
    "#    dog   ,     cat        ,  FN\n",
    "#    dog   ,     dog        ,  TP\n",
    "\n",
    "\n",
    "# --------------------------------------------For offline exam-------------------------------------------------------------\n",
    "\n",
    "# For a given dataset conatining true values and prdicted values of cat and dog.\n",
    "# Calculate accuracy, sensitivity and specificity with dog as +ve and cat as +ve.\n",
    "\n",
    "# --------------------------------------For +ve=dog & -ve=cat case-------------------------------------------------------\n",
    "# Acc=TP+TN/(TP+TN+FP+FN)\n",
    "# Acc=3+2/10=0.5\n",
    "\n",
    "# Recall=TP/TP+FN\n",
    "# Recall=3/3+2=0.6\n",
    "\n",
    "# Spec=TN/TN+FP\n",
    "# Spec=2/2+3=0.4\n",
    "\n",
    "# Prec=TP/Tp+FP\n",
    "# Prec=3/3+3=0.5\n",
    "\n",
    "# --------------------------------------For +ve=cat & -ve=dog case-------------------------------------------------------\n",
    "# Acc=TP+TN/(TP+TN+FP+FN)\n",
    "# Acc=0.5\n",
    "\n",
    "# Recall=TP/TP+FN\n",
    "# Recall=0.4\n",
    "\n",
    "# Spec=TN/TN+FP\n",
    "# Spec=0.6\n",
    "\n",
    "# Prec=TP/Tp+FP\n",
    "# Prec=0.5"
   ]
  }
 ],
 "metadata": {
  "kernelspec": {
   "display_name": "Python 3",
   "language": "python",
   "name": "python3"
  },
  "language_info": {
   "codemirror_mode": {
    "name": "ipython",
    "version": 3
   },
   "file_extension": ".py",
   "mimetype": "text/x-python",
   "name": "python",
   "nbconvert_exporter": "python",
   "pygments_lexer": "ipython3",
   "version": "3.8.5"
  }
 },
 "nbformat": 4,
 "nbformat_minor": 4
}
