{
 "cells": [
  {
   "cell_type": "markdown",
   "metadata": {},
   "source": [
    "- WAP to create a UDP server and client in which  client sends a number to which the server sends the cube of the number"
   ]
  },
  {
   "cell_type": "code",
   "execution_count": 1,
   "metadata": {},
   "outputs": [],
   "source": [
    "%%writefile cubeserver.py\n",
    "\n",
    "import socket\n",
    "import time\n",
    "\n",
    "host = 'localhost'\n",
    "port = 5000\n",
    "\n",
    "s = socket.socket(socket.AF_INET, socket.SOCK_DGRAM)\n",
    "\n",
    "s.bind((host, port))\n",
    "\n",
    "print('Server Running.....')\n",
    "\n",
    "try:\n",
    "    msg, addr = s.recvfrom(1024)\n",
    "\n",
    "    received_num_str = msg.decode('utf-8')\n",
    "    print(f'Received message from {addr} - {received_num_str}')\n",
    "\n",
    "    num = float(received_num_str)\n",
    "    \n",
    "    ans = num ** 3\n",
    "\n",
    "    s.sendto(str(ans).encode('utf-8'), addr)\n",
    "\n",
    "except ValueError:\n",
    "    print(\"Error: Received message is not a valid number.\")\n",
    "except Exception as e:\n",
    "    print(f\"An unexpected error occurred: {e}\")\n",
    "finally:\n",
    "    s.close()\n",
    "    print(\"Server closed.\")"
   ]
  },
  {
   "cell_type": "code",
   "execution_count": 2,
   "metadata": {},
   "outputs": [
    {
     "name": "stdout",
     "output_type": "stream",
     "text": [
      "Overwriting cubeclient.py\n"
     ]
    }
   ],
   "source": [
    "%%writefile cubeclient.py\n",
    "\n",
    "import socket\n",
    "import time\n",
    "\n",
    "clientserver = socket.socket(socket.AF_INET, socket.SOCK_DGRAM)\n",
    "serveraddr = ('localhost', 5000)\n",
    "\n",
    "number_str = input('Enter the number to send to server - ')\n",
    "\n",
    "try:\n",
    "    \n",
    "    clientserver.sendto(number_str.encode('utf-8'), serveraddr)\n",
    "\n",
    "    response_bytes, addr = clientserver.recvfrom(1024)\n",
    "\n",
    "    response_str = response_bytes.decode('utf-8')\n",
    "    print('Server Message - ', response_str)\n",
    "\n",
    "except ValueError:\n",
    "    print(\"Error: Server response is not a valid number.\")\n",
    "except ConnectionResetError:\n",
    "    print(\"ConnectionResetError: The server closed the connection unexpectedly.\")\n",
    "except Exception as e:\n",
    "    print(f\"An unexpected error occurred: {e}\")\n",
    "finally:\n",
    "    clientserver.close()\n",
    "    print(\"Client closed.\")"
   ]
  },
  {
   "cell_type": "code",
   "execution_count": 17,
   "metadata": {},
   "outputs": [
    {
     "name": "stdout",
     "output_type": "stream",
     "text": [
      "Overwriting filterclient.py\n"
     ]
    }
   ],
   "source": [
    "%%writefile filterclient.py\n",
    "import socket\n",
    "HOST='localhost'\n",
    "PORT=5000\n",
    "number='1,2,3,4,5'\n",
    "operation='filter'\n",
    "message=f'{number}|{operation}'\n",
    "with socket.socket() as s:\n",
    "    s.connect((HOST,PORT))\n",
    "    s.send(message.encode())\n",
    "    result=s.recv(1024).decode()\n",
    "    print('Reduced result from server is - ',result)"
   ]
  },
  {
   "cell_type": "code",
   "execution_count": 21,
   "metadata": {},
   "outputs": [
    {
     "name": "stdout",
     "output_type": "stream",
     "text": [
      "Overwriting filterserver.py\n"
     ]
    }
   ],
   "source": [
    "%%writefile filterserver.py\n",
    "import socket\n",
    "from functools import reduce\n",
    "HOST='localhost'\n",
    "PORT=5000\n",
    "def handle_request(number_str,operation):\n",
    "    numbers=list(map(int,number_str.split(',')))\n",
    "    if operation== 'map':\n",
    "        processed=map(lambda x:x*2,numbers)\n",
    "    elif operation== 'filter':\n",
    "        processed=filter(lambda x:x%2==0,numbers)\n",
    "    else:\n",
    "        return \"Invalid Operation\"\n",
    "    reduced_result=reduce(lambda x,y:x+y,processed,0)\n",
    "    return str(reduced_result)\n",
    "with socket.socket() as s:\n",
    "    s.bind((HOST,PORT))\n",
    "    s.listen()\n",
    "    print(f'Server listening on {HOST}:{PORT}')\n",
    "    conn,addr=s.accept()\n",
    "    with conn:\n",
    "        print(f'Connected by {addr}')\n",
    "        data=conn.recv(1024).decode()\n",
    "        number_str,operation=data.strip().split('|')\n",
    "        result=handle_request(number_str,operation)\n",
    "        conn.sendall(result.encode())\n",
    "    \n",
    "    "
   ]
  },
  {
   "cell_type": "markdown",
   "metadata": {},
   "source": [
    "## 344"
   ]
  },
  {
   "cell_type": "code",
   "execution_count": 96,
   "metadata": {},
   "outputs": [],
   "source": [
    "from bs4 import BeautifulSoup\n",
    "import pandas as pd"
   ]
  },
  {
   "cell_type": "code",
   "execution_count": 97,
   "metadata": {},
   "outputs": [],
   "source": [
    "url='Scrape_this.html'\n",
    "with open(url,\"r\",encoding='utf-8') as f:\n",
    "    content=f.read()"
   ]
  },
  {
   "cell_type": "code",
   "execution_count": 98,
   "metadata": {},
   "outputs": [],
   "source": [
    "# content\n",
    "soup=BeautifulSoup(content,'html.parser')"
   ]
  },
  {
   "cell_type": "code",
   "execution_count": 99,
   "metadata": {},
   "outputs": [],
   "source": [
    "tables=soup.find_all('table',class_ = 'common-table')"
   ]
  },
  {
   "cell_type": "code",
   "execution_count": 100,
   "metadata": {},
   "outputs": [],
   "source": [
    "def extract(table):\n",
    "    \n",
    "    #Extract headers\n",
    "    headers=[i.get_text(strip=True) for i in table.find_all('th')]\n",
    "    \n",
    "    #Extract rows\n",
    "    rows=table.find_all('tr')[1:]\n",
    "    \n",
    "    #List table\n",
    "    tabledata=[]\n",
    "    \n",
    "    #Iterate rows\n",
    "    for row in rows:\n",
    "        cells=row.find_all('td')\n",
    "        rowdata=[cell.get_text(strip=True) for cell in cells]\n",
    "        tabledata.append(rowdata)\n",
    "        \n",
    "    return headers,tabledata"
   ]
  },
  {
   "cell_type": "code",
   "execution_count": 101,
   "metadata": {},
   "outputs": [],
   "source": [
    "header1,data1=extract(tables[0])"
   ]
  },
  {
   "cell_type": "code",
   "execution_count": 115,
   "metadata": {},
   "outputs": [],
   "source": [
    "dfData=pd.DataFrame(data1,columns=header1)"
   ]
  },
  {
   "cell_type": "code",
   "execution_count": 116,
   "metadata": {},
   "outputs": [
    {
     "data": {
      "text/html": [
       "<div>\n",
       "<style scoped>\n",
       "    .dataframe tbody tr th:only-of-type {\n",
       "        vertical-align: middle;\n",
       "    }\n",
       "\n",
       "    .dataframe tbody tr th {\n",
       "        vertical-align: top;\n",
       "    }\n",
       "\n",
       "    .dataframe thead th {\n",
       "        text-align: right;\n",
       "    }\n",
       "</style>\n",
       "<table border=\"1\" class=\"dataframe\">\n",
       "  <thead>\n",
       "    <tr style=\"text-align: right;\">\n",
       "      <th></th>\n",
       "      <th>Company Name</th>\n",
       "      <th>Current Price</th>\n",
       "      <th>Change %</th>\n",
       "      <th>Low</th>\n",
       "      <th>High</th>\n",
       "      <th>Value (₹ Cr.)</th>\n",
       "      <th>Volume (in 000's)</th>\n",
       "    </tr>\n",
       "  </thead>\n",
       "  <tbody>\n",
       "    <tr>\n",
       "      <th>0</th>\n",
       "      <td>Vodafone Idea</td>\n",
       "      <td>7.75</td>\n",
       "      <td>1.44%</td>\n",
       "      <td>7.33</td>\n",
       "      <td>7.88</td>\n",
       "      <td>35.47</td>\n",
       "      <td>45,763.00</td>\n",
       "    </tr>\n",
       "    <tr>\n",
       "      <th>1</th>\n",
       "      <td>Reliance Power</td>\n",
       "      <td>15.01</td>\n",
       "      <td>-4.52%</td>\n",
       "      <td>14.82</td>\n",
       "      <td>15.62</td>\n",
       "      <td>31.44</td>\n",
       "      <td>20,947.33</td>\n",
       "    </tr>\n",
       "    <tr>\n",
       "      <th>2</th>\n",
       "      <td>Yes Bank</td>\n",
       "      <td>16.21</td>\n",
       "      <td>-0.12%</td>\n",
       "      <td>16.15</td>\n",
       "      <td>16.35</td>\n",
       "      <td>16.25</td>\n",
       "      <td>10,026.87</td>\n",
       "    </tr>\n",
       "    <tr>\n",
       "      <th>3</th>\n",
       "      <td>NHPC</td>\n",
       "      <td>45.80</td>\n",
       "      <td>0.57%</td>\n",
       "      <td>45.62</td>\n",
       "      <td>46.82</td>\n",
       "      <td>23.52</td>\n",
       "      <td>5,136.20</td>\n",
       "    </tr>\n",
       "    <tr>\n",
       "      <th>4</th>\n",
       "      <td>IDFC First Bank</td>\n",
       "      <td>82.17</td>\n",
       "      <td>1.11%</td>\n",
       "      <td>81.51</td>\n",
       "      <td>84.35</td>\n",
       "      <td>38.62</td>\n",
       "      <td>4,699.80</td>\n",
       "    </tr>\n",
       "    <tr>\n",
       "      <th>...</th>\n",
       "      <td>...</td>\n",
       "      <td>...</td>\n",
       "      <td>...</td>\n",
       "      <td>...</td>\n",
       "      <td>...</td>\n",
       "      <td>...</td>\n",
       "      <td>...</td>\n",
       "    </tr>\n",
       "    <tr>\n",
       "      <th>190</th>\n",
       "      <td>MRF</td>\n",
       "      <td>100429.90</td>\n",
       "      <td>0.70%</td>\n",
       "      <td>99685.70</td>\n",
       "      <td>100900.00</td>\n",
       "      <td>4.73</td>\n",
       "      <td>0.47</td>\n",
       "    </tr>\n",
       "    <tr>\n",
       "      <th>191</th>\n",
       "      <td>P&amp;G Hygiene</td>\n",
       "      <td>13961.40</td>\n",
       "      <td>0.31%</td>\n",
       "      <td>13780.90</td>\n",
       "      <td>14012.20</td>\n",
       "      <td>0.52</td>\n",
       "      <td>0.37</td>\n",
       "    </tr>\n",
       "    <tr>\n",
       "      <th>192</th>\n",
       "      <td>3M India</td>\n",
       "      <td>27181.25</td>\n",
       "      <td>-2.32%</td>\n",
       "      <td>27039.70</td>\n",
       "      <td>27950.00</td>\n",
       "      <td>0.82</td>\n",
       "      <td>0.30</td>\n",
       "    </tr>\n",
       "    <tr>\n",
       "      <th>193</th>\n",
       "      <td>Abbott India</td>\n",
       "      <td>22685.05</td>\n",
       "      <td>-1.69%</td>\n",
       "      <td>22600.05</td>\n",
       "      <td>23249.95</td>\n",
       "      <td>0.64</td>\n",
       "      <td>0.28</td>\n",
       "    </tr>\n",
       "    <tr>\n",
       "      <th>194</th>\n",
       "      <td>Bajaj  Hold &amp; Invest</td>\n",
       "      <td>7005.10</td>\n",
       "      <td>0.32%</td>\n",
       "      <td>6979.00</td>\n",
       "      <td>7061.20</td>\n",
       "      <td>0.16</td>\n",
       "      <td>0.23</td>\n",
       "    </tr>\n",
       "  </tbody>\n",
       "</table>\n",
       "<p>195 rows × 7 columns</p>\n",
       "</div>"
      ],
      "text/plain": [
       "             Company Name Current Price Change %       Low       High  \\\n",
       "0           Vodafone Idea          7.75    1.44%      7.33       7.88   \n",
       "1          Reliance Power         15.01   -4.52%     14.82      15.62   \n",
       "2                Yes Bank         16.21   -0.12%     16.15      16.35   \n",
       "3                    NHPC         45.80    0.57%     45.62      46.82   \n",
       "4         IDFC First Bank         82.17    1.11%     81.51      84.35   \n",
       "..                    ...           ...      ...       ...        ...   \n",
       "190                   MRF     100429.90    0.70%  99685.70  100900.00   \n",
       "191           P&G Hygiene      13961.40    0.31%  13780.90   14012.20   \n",
       "192              3M India      27181.25   -2.32%  27039.70   27950.00   \n",
       "193          Abbott India      22685.05   -1.69%  22600.05   23249.95   \n",
       "194  Bajaj  Hold & Invest       7005.10    0.32%   6979.00    7061.20   \n",
       "\n",
       "    Value (₹ Cr.) Volume (in 000's)  \n",
       "0           35.47         45,763.00  \n",
       "1           31.44         20,947.33  \n",
       "2           16.25         10,026.87  \n",
       "3           23.52          5,136.20  \n",
       "4           38.62          4,699.80  \n",
       "..            ...               ...  \n",
       "190          4.73              0.47  \n",
       "191          0.52              0.37  \n",
       "192          0.82              0.30  \n",
       "193          0.64              0.28  \n",
       "194          0.16              0.23  \n",
       "\n",
       "[195 rows x 7 columns]"
      ]
     },
     "execution_count": 116,
     "metadata": {},
     "output_type": "execute_result"
    }
   ],
   "source": [
    "dfData"
   ]
  },
  {
   "cell_type": "code",
   "execution_count": 118,
   "metadata": {},
   "outputs": [],
   "source": [
    "from bs4 import BeautifulSoup\n",
    "import pandas as pd"
   ]
  },
  {
   "cell_type": "code",
   "execution_count": 119,
   "metadata": {},
   "outputs": [],
   "source": [
    "url='TrumpLies.html'\n",
    "with open(url,\"r\",encoding='utf-8') as f:\n",
    "    content=f.read()"
   ]
  },
  {
   "cell_type": "code",
   "execution_count": 120,
   "metadata": {},
   "outputs": [],
   "source": [
    "soup=BeautifulSoup(content,'html.parser')"
   ]
  },
  {
   "cell_type": "code",
   "execution_count": 145,
   "metadata": {},
   "outputs": [
    {
     "data": {
      "text/html": [
       "<div>\n",
       "<style scoped>\n",
       "    .dataframe tbody tr th:only-of-type {\n",
       "        vertical-align: middle;\n",
       "    }\n",
       "\n",
       "    .dataframe tbody tr th {\n",
       "        vertical-align: top;\n",
       "    }\n",
       "\n",
       "    .dataframe thead th {\n",
       "        text-align: right;\n",
       "    }\n",
       "</style>\n",
       "<table border=\"1\" class=\"dataframe\">\n",
       "  <thead>\n",
       "    <tr style=\"text-align: right;\">\n",
       "      <th></th>\n",
       "      <th>Date</th>\n",
       "      <th>Statement</th>\n",
       "    </tr>\n",
       "  </thead>\n",
       "  <tbody>\n",
       "    <tr>\n",
       "      <th>0</th>\n",
       "      <td>Jan. 21</td>\n",
       "      <td>I wasn't a fan of Iraq. I didn't want to go in...</td>\n",
       "    </tr>\n",
       "    <tr>\n",
       "      <th>1</th>\n",
       "      <td>Jan. 21</td>\n",
       "      <td>A reporter for Time magazine — and I have been...</td>\n",
       "    </tr>\n",
       "    <tr>\n",
       "      <th>2</th>\n",
       "      <td>Jan. 23</td>\n",
       "      <td>Between 3 million and 5 million illegal votes ...</td>\n",
       "    </tr>\n",
       "    <tr>\n",
       "      <th>3</th>\n",
       "      <td>Jan. 25</td>\n",
       "      <td>Now, the audience was the biggest ever. But th...</td>\n",
       "    </tr>\n",
       "    <tr>\n",
       "      <th>4</th>\n",
       "      <td>Jan. 25</td>\n",
       "      <td>Take a look at the Pew reports (which show vot...</td>\n",
       "    </tr>\n",
       "    <tr>\n",
       "      <th>...</th>\n",
       "      <td>...</td>\n",
       "      <td>...</td>\n",
       "    </tr>\n",
       "    <tr>\n",
       "      <th>175</th>\n",
       "      <td>Oct. 25</td>\n",
       "      <td>We have trade deficits with almost everybody.”...</td>\n",
       "    </tr>\n",
       "    <tr>\n",
       "      <th>176</th>\n",
       "      <td>Oct. 27</td>\n",
       "      <td>Wacky &amp; totally unhinged Tom Steyer, who has b...</td>\n",
       "    </tr>\n",
       "    <tr>\n",
       "      <th>177</th>\n",
       "      <td>Nov. 1</td>\n",
       "      <td>Again, we're the highest-taxed nation, just ab...</td>\n",
       "    </tr>\n",
       "    <tr>\n",
       "      <th>178</th>\n",
       "      <td>Nov. 7</td>\n",
       "      <td>When you look at the city with the strongest g...</td>\n",
       "    </tr>\n",
       "    <tr>\n",
       "      <th>179</th>\n",
       "      <td>Nov. 11</td>\n",
       "      <td>I'd rather have him  – you know, work with him...</td>\n",
       "    </tr>\n",
       "  </tbody>\n",
       "</table>\n",
       "<p>180 rows × 2 columns</p>\n",
       "</div>"
      ],
      "text/plain": [
       "        Date                                          Statement\n",
       "0    Jan. 21  I wasn't a fan of Iraq. I didn't want to go in...\n",
       "1    Jan. 21  A reporter for Time magazine — and I have been...\n",
       "2    Jan. 23  Between 3 million and 5 million illegal votes ...\n",
       "3    Jan. 25  Now, the audience was the biggest ever. But th...\n",
       "4    Jan. 25  Take a look at the Pew reports (which show vot...\n",
       "..       ...                                                ...\n",
       "175  Oct. 25  We have trade deficits with almost everybody.”...\n",
       "176  Oct. 27  Wacky & totally unhinged Tom Steyer, who has b...\n",
       "177   Nov. 1  Again, we're the highest-taxed nation, just ab...\n",
       "178   Nov. 7  When you look at the city with the strongest g...\n",
       "179  Nov. 11  I'd rather have him  – you know, work with him...\n",
       "\n",
       "[180 rows x 2 columns]"
      ]
     },
     "execution_count": 145,
     "metadata": {},
     "output_type": "execute_result"
    }
   ],
   "source": [
    "data=soup.find_all('span',class_='short-desc')\n",
    "DATE=[i.get_text(strip=True).split('“')[0] for i in data]\n",
    "STATEMENT=[i.get_text(strip=True).split('“')[1] for i in data]\n",
    "d={'Date':DATE,'Statement':STATEMENT}\n",
    "df=pd.DataFrame(d)\n",
    "df"
   ]
  },
  {
   "cell_type": "code",
   "execution_count": null,
   "metadata": {},
   "outputs": [],
   "source": []
  }
 ],
 "metadata": {
  "kernelspec": {
   "display_name": "Python 3",
   "language": "python",
   "name": "python3"
  },
  "language_info": {
   "codemirror_mode": {
    "name": "ipython",
    "version": 3
   },
   "file_extension": ".py",
   "mimetype": "text/x-python",
   "name": "python",
   "nbconvert_exporter": "python",
   "pygments_lexer": "ipython3",
   "version": "3.8.5"
  }
 },
 "nbformat": 4,
 "nbformat_minor": 4
}
