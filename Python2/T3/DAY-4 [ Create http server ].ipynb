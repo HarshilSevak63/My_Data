{
 "cells": [
  {
   "cell_type": "markdown",
   "metadata": {},
   "source": [
    "# Create http server"
   ]
  },
  {
   "cell_type": "markdown",
   "metadata": {},
   "source": [
    "# https://patelmanishv.github.io/socket/#/server-program"
   ]
  },
  {
   "cell_type": "code",
   "execution_count": 1,
   "metadata": {},
   "outputs": [
    {
     "name": "stdout",
     "output_type": "stream",
     "text": [
      "Writing myserver.py\n"
     ]
    }
   ],
   "source": [
    "%%writefile myserver.py\n",
    "from socket import *\n",
    "\n",
    "def createServer():\n",
    "    serversocket=socket()\n",
    "    serversocket.bind(('localhost',9000))\n",
    "    serversocket.listen()\n",
    "        \n",
    "    print('Access - http://localhost:9000')\n",
    "        \n",
    "    while True:\n",
    "        clientsocket,address=serversocket.accept()\n",
    "        rd=clientsocket.recv(5000).decode()\n",
    "        print(rd)\n",
    "        data='HTTP/1.1 200 OK\\r\\n'\n",
    "        data+='Content-Type: text/html; charset=utf-8\\r\\n'\n",
    "        data+='\\r\\n'\n",
    "        data+='<html><body><h1> Hello world </h1></body></html>\\r\\n\\r\\n'\n",
    "        clientsocket.send(data.encode())\n",
    "        clientsocket.close()\n",
    "        \n",
    "    serversocket.close()\n",
    "createServer()"
   ]
  },
  {
   "cell_type": "code",
   "execution_count": 3,
   "metadata": {},
   "outputs": [
    {
     "name": "stdout",
     "output_type": "stream",
     "text": [
      "Writing myclient.py\n"
     ]
    }
   ],
   "source": [
    "%%writefile myclient.py\n",
    "from socket import *\n",
    "\n",
    "def createClient():\n",
    "    clientSocket=socket()\n",
    "    clientSocket.connect(('localhost',9000))\n",
    "    request='GET / HTTP/1.1\\r\\n\\HOST: localhost\\r\\n\\r\\n'\n",
    "    \n",
    "    clientSocket.send(request.encode())\n",
    "    response=clientSocket.recv(1024).decode()\n",
    "    print('Received message - ')\n",
    "    print(response)\n",
    "    clientSocket.close()\n",
    "createClient()"
   ]
  },
  {
   "cell_type": "code",
   "execution_count": null,
   "metadata": {},
   "outputs": [
    {
     "name": "stdout",
     "output_type": "stream",
     "text": [
      "Writing serverprog.py\n"
     ]
    }
   ],
   "source": [
    "# TCP\n",
    "%%writefile serverprog.py\n",
    "import socket\n",
    "#SERVER NAME AND ADDRESS\n",
    "host = 'localhost'\n",
    "port = 5000\n",
    "#CREATE SERVER SIDE SOCKET USING TCP\n",
    "s = socket.socket(socket.AF_INET, socket.SOCK_STREAM)\n",
    "#BIND SOCKET WITH SERVER AND PORT\n",
    "s.bind((host,port))\n",
    "#ALLOW MAX ONE CONNECTION TO THE SOCKET\n",
    "s.listen(1)\n",
    "# WAIT TILL CLIENT ACCEPTS CONNECTION\n",
    "c,addr = s.accept()\n",
    "# DISPLAY CLIENT ADDRESS\n",
    "print(\"connection established from - \", str(addr))\n",
    "# SEND ENCODED MESSAGE TO CLIENT\n",
    "c.send(b\"Hello client, How are you?\")\n",
    "msg = 'bye'\n",
    "c.send(msg.encode())\n",
    "# DISCONNECT SERVER\n",
    "c.close()"
   ]
  },
  {
   "cell_type": "code",
   "execution_count": 2,
   "metadata": {},
   "outputs": [
    {
     "name": "stdout",
     "output_type": "stream",
     "text": [
      "Writing clientprog.py\n"
     ]
    }
   ],
   "source": [
    "%%writefile clientprog.py\n",
    "import socket\n",
    "# TAKE SERVER NAME AND ADDRESS\n",
    "host = 'localhost'\n",
    "port = 5000\n",
    "#CREATE CLIENT SIDE SOCKET USING TCP\n",
    "s = socket.socket(socket.AF_INET, socket.SOCK_STREAM)\n",
    "#CONNECT SOCKET WITH SERVER AND PORT\n",
    "s.connect((host,port))\n",
    "# RECEIVE MAX 1024 BYTES MESSAGE FROM SERVER AT A TIME\n",
    "msg = s.recv(1024)\n",
    "# REPEAT AS LONG AS MESSAGE IS NOT EMPTY\n",
    "while msg:\n",
    "    print(\"Received - \", msg.decode())\n",
    "    msg = s.recv(1024)\n",
    "# DISCONNECT SERVER\n",
    "s.close()"
   ]
  },
  {
   "cell_type": "code",
   "execution_count": null,
   "metadata": {},
   "outputs": [
    {
     "name": "stdout",
     "output_type": "stream",
     "text": [
      "Writing udpserver.py\n"
     ]
    }
   ],
   "source": [
    "#UDP\n",
    "%%writefile udpserver.py\n",
    "import socket\n",
    "import time\n",
    "#SERVER NAME AND ADDRESS\n",
    "host = 'localhost'\n",
    "port = 5000\n",
    "#CREATE SERVER SIDE SOCKET USING TCP\n",
    "s = socket.socket(socket.AF_INET, socket.SOCK_DGRAM)\n",
    "# SERVER WAITS FOR 5 SECONDS\n",
    "time.sleep(5)\n",
    "# SEND ENCODED MESSAGE TO CLIENT\n",
    "s.sendto(b\"Hello client, How are you?\", (host,port))\n",
    "msg = 'bye'\n",
    "s.sendto(msg.encode(),(host,port))\n",
    "# DISCONNECT SERVER\n",
    "s.close()"
   ]
  },
  {
   "cell_type": "code",
   "execution_count": 4,
   "metadata": {},
   "outputs": [
    {
     "name": "stdout",
     "output_type": "stream",
     "text": [
      "Writing udpclient.py\n"
     ]
    }
   ],
   "source": [
    "%%writefile udpclient.py\n",
    "import socket\n",
    "# TAKE SERVER NAME AND ADDRESS\n",
    "host = 'localhost'\n",
    "port = 5000\n",
    "#CREATE CLIENT SIDE SOCKET USING TCP\n",
    "s = socket.socket(socket.AF_INET, socket.SOCK_DGRAM)\n",
    "#CONNECT SOCKET WITH SERVER AND PORT\n",
    "s.bind((host,port))\n",
    "# RECEIVE MAX 1024 BYTES MESSAGE FROM SERVER AT A TIME\n",
    "msg,addr = s.recvfrom(1024)\n",
    "try :\n",
    "    # SOCKET BLOCKS AFTER 5 SEC IF SERVER DISCONNECTS\n",
    "    s.settimeout(5)\n",
    "    # REPEAT AS LONG AS MSG IS NOT EMPTY\n",
    "    while msg:\n",
    "        print(\"Received - \", msg.decode())\n",
    "        msg,addr = s.recvfrom(1024)\n",
    "except socket.timeout:\n",
    "    print(\"time is over and hence terminating\")\n",
    "# DISCONNECT SERVER\n",
    "s.close()"
   ]
  },
  {
   "cell_type": "code",
   "execution_count": 5,
   "metadata": {},
   "outputs": [
    {
     "name": "stdout",
     "output_type": "stream",
     "text": [
      "Writing server2.py\n"
     ]
    }
   ],
   "source": [
    "%%writefile server2.py\n",
    "import socket\n",
    "#SERVER NAME AND ADDRESS\n",
    "host = 'localhost'\n",
    "port = 9000\n",
    "#CREATE SERVER SIDE SOCKET USING TCP\n",
    "s = socket.socket(socket.AF_INET, socket.SOCK_STREAM)\n",
    "#BIND SOCKET WITH SERVER AND PORT\n",
    "s.bind((host,port))\n",
    "#ALLOW MAX ONE CONNECTION TO THE SOCKET\n",
    "s.listen(1)\n",
    "# WAIT TILL CLIENT ACCEPTS CONNECTION\n",
    "c,addr = s.accept()\n",
    "# DISPLAY CLIENT ADDRESS\n",
    "print(\"connection established from - \", str(addr))\n",
    "# RUN SERVER CONTINUOUSLY\n",
    "while True:\n",
    "    data = c.recv(1024)\n",
    "    #IF CLIENT SENDS EMPTY STRING, COME OUT OF WHILE LOOP\n",
    "    if not data:\n",
    "        break\n",
    "    print(\"From client - \" + str(data.decode()))\n",
    "    # ENTER RESPONSE FROM SERVER\n",
    "    data1 = input(\"Enter the response = \")\n",
    "    # SEND THAT DATA TO CLIENT\n",
    "    c.send(data1.encode())\n",
    "# DISCONNECT SERVER\n",
    "c.close()"
   ]
  },
  {
   "cell_type": "code",
   "execution_count": 6,
   "metadata": {},
   "outputs": [
    {
     "name": "stdout",
     "output_type": "stream",
     "text": [
      "Writing client2.py\n"
     ]
    }
   ],
   "source": [
    "%%writefile client2.py\n",
    "import socket\n",
    "# TAKE SERVER NAME AND ADDRESS\n",
    "host = 'localhost'\n",
    "port = 9000\n",
    "#CREATE CLIENT SIDE SOCKET USING TCP\n",
    "s = socket.socket(socket.AF_INET, socket.SOCK_STREAM)\n",
    "#CONNECT SOCKET WITH SERVER AND PORT\n",
    "s.connect((host,port))\n",
    "# ENTER DATA AT CLIENT \n",
    "str = input(\"Enter data - \")\n",
    "# REPEAT AS LONG AS MESSAGE IS NOT exit\n",
    "while str != 'exit':\n",
    "   # SEND  DATA FROM CLIENT TO SERVER\n",
    "    s.send(str.encode())\n",
    "    # RECEIVE RESPONSE DATA FROM SERVER\n",
    "    data = s.recv(1024)\n",
    "    data = data.decode()\n",
    "    print(\"From server - \" + data)\n",
    "    # ENTER DATA\n",
    "    str = input(\"Enter data - \")\n",
    "# DISCONNECT SERVER\n",
    "s.close()"
   ]
  },
  {
   "cell_type": "markdown",
   "metadata": {},
   "source": [
    "# File Receiver"
   ]
  },
  {
   "cell_type": "code",
   "execution_count": 7,
   "metadata": {},
   "outputs": [
    {
     "name": "stdout",
     "output_type": "stream",
     "text": [
      "Writing fileserver.py\n"
     ]
    }
   ],
   "source": [
    "%%writefile fileserver.py\n",
    "import socket\n",
    "\n",
    "host='0.0.0.0'\n",
    "port=9000\n",
    "\n",
    "s=socket.socket()\n",
    "s.bind((host,port))\n",
    "\n",
    "s.listen()\n",
    "\n",
    "c,addr=s.accept()\n",
    "print('Connaction Established from - ',str(addr))\n",
    "\n",
    "filename=c.recv(1024).decode()\n",
    "\n",
    "with open(filename,'wb') as f:\n",
    "    while True:\n",
    "        data=c.recv(1024)\n",
    "        if not data:\n",
    "            break\n",
    "        f.write(data)\n",
    "        \n",
    "print(f\"file {filname} recived successfully\")\n",
    "\n",
    "c.close()"
   ]
  },
  {
   "cell_type": "markdown",
   "metadata": {},
   "source": [
    "# File client"
   ]
  },
  {
   "cell_type": "code",
   "execution_count": 11,
   "metadata": {},
   "outputs": [
    {
     "name": "stdout",
     "output_type": "stream",
     "text": [
      "Overwriting fileclient.py\n"
     ]
    }
   ],
   "source": [
    "%%writefile fileclient.py\n",
    "import socket\n",
    "\n",
    "host='192.168.104.235'\n",
    "port=9000\n",
    "\n",
    "s=socket.socket()\n",
    "s.connect((host,port))\n",
    "\n",
    "filename=input('Enter file name to send - ')\n",
    "s.send(filename.encode())\n",
    "\n",
    "with open(filename,'rb') as f:\n",
    "    data=f.read(1024)\n",
    "    while data:\n",
    "        s.send(data)\n",
    "        data=f.read(1024)\n",
    "print(f\"file {filename} sent successfully\")\n",
    "\n",
    "s.close()"
   ]
  },
  {
   "cell_type": "markdown",
   "metadata": {},
   "source": [
    "# For T3"
   ]
  },
  {
   "cell_type": "markdown",
   "metadata": {},
   "source": [
    "## Socket\n",
    "- Program to create Browser/HTTP Server\n",
    "- TCP server/client program \n",
    "- UDP server/client program "
   ]
  }
 ],
 "metadata": {
  "kernelspec": {
   "display_name": "Python 3",
   "language": "python",
   "name": "python3"
  },
  "language_info": {
   "codemirror_mode": {
    "name": "ipython",
    "version": 3
   },
   "file_extension": ".py",
   "mimetype": "text/x-python",
   "name": "python",
   "nbconvert_exporter": "python",
   "pygments_lexer": "ipython3",
   "version": "3.8.5"
  }
 },
 "nbformat": 4,
 "nbformat_minor": 4
}
